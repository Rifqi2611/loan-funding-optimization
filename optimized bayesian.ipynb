{
 "cells": [
  {
   "cell_type": "markdown",
   "id": "557faa24-ce89-407c-8d74-bce4e060ba0f",
   "metadata": {},
   "source": [
    "# Optimized Asset Allocation for Profit Maximization using Random Forest and Bayesian Optimization"
   ]
  },
  {
   "cell_type": "markdown",
   "id": "922cedb0-7c1b-46fe-9a3a-7495848c7e63",
   "metadata": {},
   "source": [
    "## Import Important Modul"
   ]
  },
  {
   "cell_type": "code",
   "execution_count": 97,
   "id": "dafe611e-dec3-4695-80a1-db772e51c5c5",
   "metadata": {},
   "outputs": [],
   "source": [
    "import pandas as pd\n",
    "import numpy as np\n",
    "from sklearn.ensemble import RandomForestRegressor\n",
    "from sklearn.model_selection import cross_val_score\n",
    "from skopt import gp_minimize\n",
    "from skopt.space import Real\n",
    "from skopt.utils import use_named_args\n",
    "import matplotlib.pyplot as plt\n",
    "import statsmodels.api as sm\n",
    "import warnings\n",
    "warnings.filterwarnings(\"ignore\")"
   ]
  },
  {
   "cell_type": "markdown",
   "id": "5435564b-fda9-40f0-ac8a-ff20e4de16ca",
   "metadata": {},
   "source": [
    "# Load Data"
   ]
  },
  {
   "cell_type": "code",
   "execution_count": 98,
   "id": "7d366682-fb6c-412b-8680-326c48fc1ff3",
   "metadata": {},
   "outputs": [
    {
     "name": "stdout",
     "output_type": "stream",
     "text": [
      "<class 'pandas.core.frame.DataFrame'>\n",
      "RangeIndex: 40 entries, 0 to 39\n",
      "Data columns (total 14 columns):\n",
      " #   Column         Non-Null Count  Dtype  \n",
      "---  ------         --------------  -----  \n",
      " 0   Period         40 non-null     int64  \n",
      " 1   giro           40 non-null     float64\n",
      " 2   tab            40 non-null     float64\n",
      " 3   dep            40 non-null     float64\n",
      " 4   totaldpk       40 non-null     float64\n",
      " 5   konsumer       40 non-null     float64\n",
      " 6   ritel          40 non-null     float64\n",
      " 7   umkm           40 non-null     float64\n",
      " 8   korporasi      40 non-null     float64\n",
      " 9   komersial      40 non-null     float64\n",
      " 10  kprkkb         40 non-null     float64\n",
      " 11  internasional  40 non-null     float64\n",
      " 12  totalkredit    40 non-null     float64\n",
      " 13  laba           40 non-null     float64\n",
      "dtypes: float64(13), int64(1)\n",
      "memory usage: 4.5 KB\n"
     ]
    }
   ],
   "source": [
    "filepath = r'C:\\Users\\LENOVO\\Downloads\\dataoptimized.xlsx'\n",
    "df = pd.read_excel(filepath)\n",
    "df.info()"
   ]
  },
  {
   "cell_type": "markdown",
   "id": "d7dc23ad-1cd5-4a01-81d8-1eb0ed382149",
   "metadata": {},
   "source": [
    "## Calculate Proportion "
   ]
  },
  {
   "cell_type": "code",
   "execution_count": 99,
   "id": "71e8478c-1bee-4408-bd87-05b927826683",
   "metadata": {},
   "outputs": [],
   "source": [
    "df[\"giro_pct\"] = df[\"giro\"] / df[\"totaldpk\"]\n",
    "df[\"tabungan_pct\"] = df[\"tab\"] / df[\"totaldpk\"]\n",
    "df[\"deposito_pct\"] = df[\"dep\"] / df[\"totaldpk\"]\n",
    "\n",
    "df[\"konsumer_pct\"] = df[\"konsumer\"] / df[\"totalkredit\"]\n",
    "df[\"ritel_pct\"] = df[\"ritel\"] / df[\"totalkredit\"]\n",
    "df[\"umkm_pct\"] = df[\"umkm\"] / df[\"totalkredit\"]\n",
    "df[\"korporasi_pct\"] = df[\"korporasi\"] / df[\"totalkredit\"]\n",
    "df[\"komersial_pct\"] = df[\"komersial\"] / df[\"totalkredit\"]\n",
    "df[\"kpr_kkb_pct\"] = df[\"kprkkb\"] / df[\"totalkredit\"]\n",
    "df[\"internasional_pct\"] = df[\"internasional\"] / df[\"totalkredit\"]"
   ]
  },
  {
   "cell_type": "code",
   "execution_count": 100,
   "id": "03c42b80-5ff4-4eb9-a6e2-18a6a35d528d",
   "metadata": {},
   "outputs": [
    {
     "data": {
      "text/html": [
       "<div>\n",
       "<style scoped>\n",
       "    .dataframe tbody tr th:only-of-type {\n",
       "        vertical-align: middle;\n",
       "    }\n",
       "\n",
       "    .dataframe tbody tr th {\n",
       "        vertical-align: top;\n",
       "    }\n",
       "\n",
       "    .dataframe thead th {\n",
       "        text-align: right;\n",
       "    }\n",
       "</style>\n",
       "<table border=\"1\" class=\"dataframe\">\n",
       "  <thead>\n",
       "    <tr style=\"text-align: right;\">\n",
       "      <th></th>\n",
       "      <th>Period</th>\n",
       "      <th>giro</th>\n",
       "      <th>tab</th>\n",
       "      <th>dep</th>\n",
       "      <th>totaldpk</th>\n",
       "      <th>konsumer</th>\n",
       "      <th>ritel</th>\n",
       "      <th>umkm</th>\n",
       "      <th>korporasi</th>\n",
       "      <th>komersial</th>\n",
       "      <th>...</th>\n",
       "      <th>giro_pct</th>\n",
       "      <th>tabungan_pct</th>\n",
       "      <th>deposito_pct</th>\n",
       "      <th>konsumer_pct</th>\n",
       "      <th>ritel_pct</th>\n",
       "      <th>umkm_pct</th>\n",
       "      <th>korporasi_pct</th>\n",
       "      <th>komersial_pct</th>\n",
       "      <th>kpr_kkb_pct</th>\n",
       "      <th>internasional_pct</th>\n",
       "    </tr>\n",
       "  </thead>\n",
       "  <tbody>\n",
       "    <tr>\n",
       "      <th>35</th>\n",
       "      <td>36</td>\n",
       "      <td>18436.543342</td>\n",
       "      <td>34114.888471</td>\n",
       "      <td>73192.227945</td>\n",
       "      <td>125743.659757</td>\n",
       "      <td>52944.399299</td>\n",
       "      <td>20755.720065</td>\n",
       "      <td>4941.650458</td>\n",
       "      <td>14900.214507</td>\n",
       "      <td>10536.427994</td>\n",
       "      <td>...</td>\n",
       "      <td>0.146620</td>\n",
       "      <td>0.271305</td>\n",
       "      <td>0.582075</td>\n",
       "      <td>0.443109</td>\n",
       "      <td>0.173711</td>\n",
       "      <td>0.041358</td>\n",
       "      <td>0.124705</td>\n",
       "      <td>0.088183</td>\n",
       "      <td>0.090062</td>\n",
       "      <td>0.038871</td>\n",
       "    </tr>\n",
       "    <tr>\n",
       "      <th>36</th>\n",
       "      <td>37</td>\n",
       "      <td>19770.483918</td>\n",
       "      <td>35784.789745</td>\n",
       "      <td>68284.947167</td>\n",
       "      <td>123840.220830</td>\n",
       "      <td>53022.385327</td>\n",
       "      <td>20707.983517</td>\n",
       "      <td>4864.591204</td>\n",
       "      <td>14768.336509</td>\n",
       "      <td>9646.768420</td>\n",
       "      <td>...</td>\n",
       "      <td>0.159645</td>\n",
       "      <td>0.288959</td>\n",
       "      <td>0.551396</td>\n",
       "      <td>0.447812</td>\n",
       "      <td>0.174894</td>\n",
       "      <td>0.041085</td>\n",
       "      <td>0.124729</td>\n",
       "      <td>0.081474</td>\n",
       "      <td>0.090903</td>\n",
       "      <td>0.039104</td>\n",
       "    </tr>\n",
       "    <tr>\n",
       "      <th>37</th>\n",
       "      <td>38</td>\n",
       "      <td>22572.339210</td>\n",
       "      <td>34109.589671</td>\n",
       "      <td>67621.278839</td>\n",
       "      <td>124303.207719</td>\n",
       "      <td>53024.827070</td>\n",
       "      <td>20646.943070</td>\n",
       "      <td>4876.350733</td>\n",
       "      <td>15063.705926</td>\n",
       "      <td>9581.411795</td>\n",
       "      <td>...</td>\n",
       "      <td>0.181591</td>\n",
       "      <td>0.274406</td>\n",
       "      <td>0.544003</td>\n",
       "      <td>0.446749</td>\n",
       "      <td>0.173956</td>\n",
       "      <td>0.041085</td>\n",
       "      <td>0.126916</td>\n",
       "      <td>0.080726</td>\n",
       "      <td>0.090733</td>\n",
       "      <td>0.039835</td>\n",
       "    </tr>\n",
       "    <tr>\n",
       "      <th>38</th>\n",
       "      <td>39</td>\n",
       "      <td>21399.111165</td>\n",
       "      <td>35049.091605</td>\n",
       "      <td>70317.223013</td>\n",
       "      <td>126765.425783</td>\n",
       "      <td>52866.171598</td>\n",
       "      <td>20598.998446</td>\n",
       "      <td>4845.741556</td>\n",
       "      <td>14875.981947</td>\n",
       "      <td>9941.532038</td>\n",
       "      <td>...</td>\n",
       "      <td>0.168809</td>\n",
       "      <td>0.276488</td>\n",
       "      <td>0.554703</td>\n",
       "      <td>0.447084</td>\n",
       "      <td>0.174204</td>\n",
       "      <td>0.040980</td>\n",
       "      <td>0.125805</td>\n",
       "      <td>0.084074</td>\n",
       "      <td>0.091016</td>\n",
       "      <td>0.036838</td>\n",
       "    </tr>\n",
       "    <tr>\n",
       "      <th>39</th>\n",
       "      <td>40</td>\n",
       "      <td>21068.817753</td>\n",
       "      <td>33530.417085</td>\n",
       "      <td>68610.406697</td>\n",
       "      <td>123209.641534</td>\n",
       "      <td>53004.512213</td>\n",
       "      <td>20552.504130</td>\n",
       "      <td>4726.406194</td>\n",
       "      <td>12965.513630</td>\n",
       "      <td>9881.838723</td>\n",
       "      <td>...</td>\n",
       "      <td>0.171000</td>\n",
       "      <td>0.272141</td>\n",
       "      <td>0.556859</td>\n",
       "      <td>0.456808</td>\n",
       "      <td>0.177127</td>\n",
       "      <td>0.040734</td>\n",
       "      <td>0.111741</td>\n",
       "      <td>0.085165</td>\n",
       "      <td>0.092573</td>\n",
       "      <td>0.035852</td>\n",
       "    </tr>\n",
       "  </tbody>\n",
       "</table>\n",
       "<p>5 rows × 24 columns</p>\n",
       "</div>"
      ],
      "text/plain": [
       "    Period          giro           tab           dep       totaldpk  \\\n",
       "35      36  18436.543342  34114.888471  73192.227945  125743.659757   \n",
       "36      37  19770.483918  35784.789745  68284.947167  123840.220830   \n",
       "37      38  22572.339210  34109.589671  67621.278839  124303.207719   \n",
       "38      39  21399.111165  35049.091605  70317.223013  126765.425783   \n",
       "39      40  21068.817753  33530.417085  68610.406697  123209.641534   \n",
       "\n",
       "        konsumer         ritel         umkm     korporasi     komersial  ...  \\\n",
       "35  52944.399299  20755.720065  4941.650458  14900.214507  10536.427994  ...   \n",
       "36  53022.385327  20707.983517  4864.591204  14768.336509   9646.768420  ...   \n",
       "37  53024.827070  20646.943070  4876.350733  15063.705926   9581.411795  ...   \n",
       "38  52866.171598  20598.998446  4845.741556  14875.981947   9941.532038  ...   \n",
       "39  53004.512213  20552.504130  4726.406194  12965.513630   9881.838723  ...   \n",
       "\n",
       "    giro_pct  tabungan_pct  deposito_pct  konsumer_pct  ritel_pct  umkm_pct  \\\n",
       "35  0.146620      0.271305      0.582075      0.443109   0.173711  0.041358   \n",
       "36  0.159645      0.288959      0.551396      0.447812   0.174894  0.041085   \n",
       "37  0.181591      0.274406      0.544003      0.446749   0.173956  0.041085   \n",
       "38  0.168809      0.276488      0.554703      0.447084   0.174204  0.040980   \n",
       "39  0.171000      0.272141      0.556859      0.456808   0.177127  0.040734   \n",
       "\n",
       "    korporasi_pct  komersial_pct  kpr_kkb_pct  internasional_pct  \n",
       "35       0.124705       0.088183     0.090062           0.038871  \n",
       "36       0.124729       0.081474     0.090903           0.039104  \n",
       "37       0.126916       0.080726     0.090733           0.039835  \n",
       "38       0.125805       0.084074     0.091016           0.036838  \n",
       "39       0.111741       0.085165     0.092573           0.035852  \n",
       "\n",
       "[5 rows x 24 columns]"
      ]
     },
     "execution_count": 100,
     "metadata": {},
     "output_type": "execute_result"
    }
   ],
   "source": [
    "df.tail()"
   ]
  },
  {
   "cell_type": "markdown",
   "id": "c76a0955-d3a7-412d-9c2d-8eb4904b49ef",
   "metadata": {},
   "source": [
    "## Create Feature & Target"
   ]
  },
  {
   "cell_type": "code",
   "execution_count": 101,
   "id": "e029d23d-7add-4a29-8b1c-e6d66b493381",
   "metadata": {},
   "outputs": [],
   "source": [
    "X = df.filter(regex=\"_pct$\")\n",
    "y = df[\"laba\"]"
   ]
  },
  {
   "cell_type": "markdown",
   "id": "63a33dee-10b9-4c2b-8d96-5df5639b8a62",
   "metadata": {},
   "source": [
    "## Linear Regression"
   ]
  },
  {
   "cell_type": "code",
   "execution_count": 102,
   "id": "71578f5e-7d1e-4cb1-afe6-13a4affec49d",
   "metadata": {},
   "outputs": [
    {
     "name": "stdout",
     "output_type": "stream",
     "text": [
      "                            OLS Regression Results                            \n",
      "==============================================================================\n",
      "Dep. Variable:                   laba   R-squared:                       0.679\n",
      "Model:                            OLS   Adj. R-squared:                  0.596\n",
      "Method:                 Least Squares   F-statistic:                     8.192\n",
      "Date:                Mon, 02 Jun 2025   Prob (F-statistic):           6.85e-06\n",
      "Time:                        14:12:55   Log-Likelihood:                -200.50\n",
      "No. Observations:                  40   AIC:                             419.0\n",
      "Df Residuals:                      31   BIC:                             434.2\n",
      "Df Model:                           8                                         \n",
      "Covariance Type:            nonrobust                                         \n",
      "=====================================================================================\n",
      "                        coef    std err          t      P>|t|      [0.025      0.975]\n",
      "-------------------------------------------------------------------------------------\n",
      "const               347.6047    517.106      0.672      0.506    -707.040    1402.249\n",
      "giro_pct            351.1660    409.251      0.858      0.397    -483.507    1185.840\n",
      "tabungan_pct         65.8471    466.031      0.141      0.889    -884.630    1016.324\n",
      "deposito_pct        -69.4084    364.558     -0.190      0.850    -812.930     674.113\n",
      "konsumer_pct        549.2285   2214.743      0.248      0.806   -3967.770    5066.227\n",
      "ritel_pct         -1124.8083   6166.141     -0.182      0.856   -1.37e+04    1.15e+04\n",
      "umkm_pct           1.124e+04   1.07e+04      1.050      0.302   -1.06e+04    3.31e+04\n",
      "korporasi_pct       691.1572   1005.427      0.687      0.497   -1359.425    2741.739\n",
      "komersial_pct      1312.8606   1563.497      0.840      0.408   -1875.913    4501.634\n",
      "kpr_kkb_pct       -9959.4953   1.01e+04     -0.982      0.334   -3.06e+04    1.07e+04\n",
      "internasional_pct -2363.2749   1781.212     -1.327      0.194   -5996.081    1269.531\n",
      "==============================================================================\n",
      "Omnibus:                        2.113   Durbin-Watson:                   1.942\n",
      "Prob(Omnibus):                  0.348   Jarque-Bera (JB):                1.155\n",
      "Skew:                          -0.102   Prob(JB):                        0.561\n",
      "Kurtosis:                       3.807   Cond. No.                     3.12e+16\n",
      "==============================================================================\n",
      "\n",
      "Notes:\n",
      "[1] Standard Errors assume that the covariance matrix of the errors is correctly specified.\n",
      "[2] The smallest eigenvalue is 6.91e-32. This might indicate that there are\n",
      "strong multicollinearity problems or that the design matrix is singular.\n"
     ]
    }
   ],
   "source": [
    "X_sm = sm.add_constant(X)\n",
    "model = sm.OLS(y, X_sm).fit()\n",
    "print(model.summary())"
   ]
  },
  {
   "cell_type": "markdown",
   "id": "8860c80f-7c33-48eb-bc65-6bdf328fb408",
   "metadata": {},
   "source": [
    "## Random Forest Regressor"
   ]
  },
  {
   "cell_type": "code",
   "execution_count": 103,
   "id": "16aa6a99-fab4-49ec-9ace-58f88503a515",
   "metadata": {},
   "outputs": [
    {
     "data": {
      "image/png": "[encoded data removed]",
      "text/plain": [
       "<Figure size 800x500 with 1 Axes>"
      ]
     },
     "metadata": {},
     "output_type": "display_data"
    }
   ],
   "source": [
    "rf = RandomForestRegressor(n_estimators=100, random_state=42)\n",
    "rf.fit(X, y)\n",
    "\n",
    "importances = pd.Series(rf.feature_importances_, index=X.columns).sort_values(ascending=False)\n",
    "importances.plot(kind='barh', title='Feature Importance (Random Forest)', figsize=(8, 5))\n",
    "plt.xlabel('Importance Score')\n",
    "plt.show()"
   ]
  },
  {
   "cell_type": "markdown",
   "id": "d68a9ea5-f8b0-4094-8a54-809ab22e2d74",
   "metadata": {},
   "source": [
    "## Bayesian Optimization"
   ]
  },
  {
   "cell_type": "code",
   "execution_count": 104,
   "id": "4d2d5762-0a24-414e-a3de-7fdbbc8e6f77",
   "metadata": {},
   "outputs": [],
   "source": [
    "space = [\n",
    "    Real(0.1, 0.5, name='giro_pct'),\n",
    "    Real(0.1, 0.5, name='tabungan_pct'),\n",
    "    \n",
    "    Real(0.05, 0.5, name='konsumer_pct'),\n",
    "    Real(0.05, 0.5, name='ritel_pct'),\n",
    "    Real(0.05, 0.5, name='komersial_pct'),\n",
    "    Real(0.05, 0.5, name='korporasi_pct'),\n",
    "    Real(0.01, 0.5, name='umkm_pct'),\n",
    "    Real(0.05, 0.5, name='kpr_kkb_pct'),\n",
    "]\n",
    "\n",
    "@use_named_args(space)\n",
    "def objective(**params):\n",
    "    # DPK constraint\n",
    "    giro = params['giro_pct']\n",
    "    tabungan = params['tabungan_pct']\n",
    "    deposito = 1.0 - giro - tabungan\n",
    "    if deposito < 0 or deposito > 1:\n",
    "        return 1e5\n",
    "\n",
    "    # Loan constraint\n",
    "    kredit_sum = sum([\n",
    "        params['konsumer_pct'], params['ritel_pct'], params['komersial_pct'],\n",
    "        params['korporasi_pct'], params['umkm_pct'], params['kpr_kkb_pct']\n",
    "    ])\n",
    "    internasional = 1.0 - kredit_sum\n",
    "    if internasional < 0 or internasional > 1:\n",
    "        return 1e5\n",
    "\n",
    "    # Profit Predict Profit\n",
    "    input_vals = np.array([[\n",
    "        giro,\n",
    "        tabungan,\n",
    "        deposito,\n",
    "        params['konsumer_pct'],\n",
    "        params['ritel_pct'],\n",
    "        params['komersial_pct'],\n",
    "        params['korporasi_pct'],\n",
    "        params['umkm_pct'],\n",
    "        params['kpr_kkb_pct'],\n",
    "        internasional\n",
    "    ]])\n",
    "\n",
    "    pred = rf.predict(input_vals)\n",
    "    return -pred[0] "
   ]
  },
  {
   "cell_type": "code",
   "execution_count": 105,
   "id": "5e760e46-2527-4fda-8412-ef9facecef06",
   "metadata": {},
   "outputs": [],
   "source": [
    "res_gp = gp_minimize(objective, space, n_calls=200, random_state=42)\n",
    "\n",
    "optimal_params = dict(zip([dim.name for dim in space], res_gp.x))\n",
    "optimal_params['deposito_pct'] = 1.0 - optimal_params['giro_pct'] - optimal_params['tabungan_pct']\n",
    "kredit_total = sum(optimal_params[k] for k in [\n",
    "    'konsumer_pct', 'ritel_pct', 'komersial_pct',\n",
    "    'korporasi_pct', 'umkm_pct', 'kpr_kkb_pct'\n",
    "])\n",
    "optimal_params['internasional_pct'] = 1.0 - kredit_total\n",
    "optimal_params['prediksi_laba'] = -res_gp.fun"
   ]
  },
  {
   "cell_type": "code",
   "execution_count": 106,
   "id": "42fd7943-161e-442d-8882-aae4eaf2f740",
   "metadata": {},
   "outputs": [
    {
     "name": "stdout",
     "output_type": "stream",
     "text": [
      "                   Optimaztion Result\n",
      "giro_pct                       0.2969\n",
      "tabungan_pct                   0.2049\n",
      "konsumer_pct                   0.0975\n",
      "ritel_pct                      0.1686\n",
      "komersial_pct                  0.0703\n",
      "korporasi_pct                  0.1941\n",
      "umkm_pct                       0.2431\n",
      "kpr_kkb_pct                    0.2115\n",
      "deposito_pct                   0.4982\n",
      "internasional_pct              0.0149\n",
      "prediksi_laba                225.5756\n"
     ]
    }
   ],
   "source": [
    "df_opt = pd.DataFrame([optimal_params]).T\n",
    "df_opt.columns = [\"Optimaztion Result\"]\n",
    "print(df_opt.round(4))"
   ]
  }
 ],
 "metadata": {
  "kernelspec": {
   "display_name": "Python 3 (ipykernel)",
   "language": "python",
   "name": "python3"
  },
  "language_info": {
   "codemirror_mode": {
    "name": "ipython",
    "version": 3
   },
   "file_extension": ".py",
   "mimetype": "text/x-python",
   "name": "python",
   "nbconvert_exporter": "python",
   "pygments_lexer": "ipython3",
   "version": "3.8.18"
  }
 },
 "nbformat": 4,
 "nbformat_minor": 5
}
